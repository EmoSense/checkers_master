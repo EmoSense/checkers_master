{
 "cells": [
  {
   "cell_type": "code",
   "execution_count": 49,
   "metadata": {},
   "outputs": [],
   "source": [
    "#!pip istall coloroma"
   ]
  },
  {
   "cell_type": "code",
   "execution_count": 50,
   "metadata": {},
   "outputs": [],
   "source": [
    "import random\n",
    "import copy\n",
    "from colorama import Fore"
   ]
  },
  {
   "cell_type": "markdown",
   "metadata": {},
   "source": [
    "# Draughts Endgame : 4 Kings x 2 Kings"
   ]
  },
  {
   "cell_type": "markdown",
   "metadata": {},
   "source": [
    "In the end I decided to create a game of drafts following a 4 kings vs 2 kings endgame.\n",
    "\n",
    "In this scenario, there will be only one 'type' of move. Kings are able to move diagonally forward and backwards, as well as capture other pieces.\n",
    "\n",
    "git hub link : https://github.com/EmoSense/checkers_master"
   ]
  },
  {
   "cell_type": "markdown",
   "metadata": {},
   "source": [
    "## Draughts Class\n",
    "Class which determines start position of pieces, board state, and display the board"
   ]
  },
  {
   "cell_type": "code",
   "execution_count": 51,
   "metadata": {},
   "outputs": [],
   "source": [
    "class CurrentBoard:\n",
    "\n",
    "    BOARD_SIZE = 8\n",
    "    PLAYER_COUNT = 6\n",
    "\n",
    "    def __init__(self, board=None):\n",
    "        if board is None:\n",
    "            self.board = [[\" \" for _ in range(self.BOARD_SIZE)] for _ in range(self.BOARD_SIZE)]\n",
    "        else:\n",
    "            self.board = board\n",
    "        self.player_positions = {\"W\": [], \"B\": []}\n",
    "        self.state = \"U\"\n",
    "        \n",
    "\n",
    "    def initialise_board(self):\n",
    "        start_positons = random.sample(range(self.BOARD_SIZE*self.BOARD_SIZE), self.PLAYER_COUNT)\n",
    "\n",
    "        white_kings = start_positons[:2]\n",
    "        black_kings = start_positons[2:]\n",
    "\n",
    "        for index in white_kings:\n",
    "            row = index // self.BOARD_SIZE\n",
    "            col = index % self.BOARD_SIZE\n",
    "            self.board[row][col] = \"W\"\n",
    "            self.player_positions[\"W\"].append((row,col))\n",
    "        \n",
    "        for index in black_kings:\n",
    "            row = index // self.BOARD_SIZE\n",
    "            col = index % self.BOARD_SIZE\n",
    "            self.board[row][col] = \"B\"\n",
    "            self.player_positions[\"B\"].append((row,col))\n",
    "\n",
    "        self.state = self.state_of_board()\n",
    "\n",
    "    def other(self,piece):\n",
    "        if piece == \"B\":\n",
    "            return \"W\"\n",
    "        return \"B\"\n",
    "\n",
    "\n",
    "    def display_board(self, game_display=False):\n",
    "        if game_display:\n",
    "            indx = 0\n",
    "\n",
    "            print(Fore.BLUE + \"+\" + \"----+\" * self.BOARD_SIZE)\n",
    "            for row in range(self.BOARD_SIZE):\n",
    "                print(\"|\", end=\"\")\n",
    "                for col in range(self.BOARD_SIZE):\n",
    "                    if self.board[row][col] == \"B\" or self.board[row][col] == \"W\":\n",
    "                        print(\" \" + str(Fore.WHITE + self.board[row][col]) + Fore.BLUE + \"  |\", end=\"\")\n",
    "                    else:\n",
    "                        if indx < 10:\n",
    "                            print(\" \" + str(indx) + \"  |\", end=\"\")\n",
    "                        else:\n",
    "                            print(\" \" + str(indx) + \" |\", end=\"\")\n",
    "                    indx += 1\n",
    "                print()\n",
    "                print(\"+\" + \"----+\" * self.BOARD_SIZE)\n",
    "        else:\n",
    "            print(\"+\" + \"----+\" * self.BOARD_SIZE)\n",
    "            for row in range(self.BOARD_SIZE):\n",
    "                print(\"|\", end=\"\")\n",
    "                for col in range(self.BOARD_SIZE):\n",
    "                    print(\" \" + str(self.board[row][col]) + \"  |\", end=\"\")\n",
    "                print()\n",
    "                print(\"+\" + \"----+\" * self.BOARD_SIZE)\n",
    "\n",
    "    def state_of_board(self):\n",
    "        \n",
    "        if len(self.all_possible_moves(\"W\")) == 0 or len(self.all_possible_moves(\"B\")) == 0:\n",
    "            return \"W\"\n",
    "        elif len(self.all_possible_moves(\"W\")) > 0 or len(self.all_possible_moves(\"B\")) > 0:\n",
    "            return \"U\"\n",
    "        else:\n",
    "            return \"D\"\n",
    "\n",
    "    def move_piece_on_board(self, piece, curr_index, destination_index):\n",
    "\n",
    "        # need to check if move is in possible moves but had issues and ran out of time\n",
    "\n",
    "        # possible_moves = self.all_possible_moves(piece)\n",
    "        # loop through moves and check against proposed move\n",
    "            \n",
    "        curr_row = curr_index // self.BOARD_SIZE\n",
    "        curr_col = curr_index % self.BOARD_SIZE\n",
    "\n",
    "        new_row = destination_index // self.BOARD_SIZE\n",
    "        new_col = destination_index % self.BOARD_SIZE\n",
    "\n",
    "        capture_row = curr_row\n",
    "        capture_col = curr_col\n",
    "\n",
    "        while capture_row != new_row or capture_col != new_col:\n",
    "\n",
    "            if new_row > curr_row:\n",
    "                capture_row += 1\n",
    "            elif new_row < curr_row:\n",
    "                capture_row -= 1\n",
    "\n",
    "            if new_col > curr_col:\n",
    "                capture_col += 1\n",
    "            elif new_col < curr_col:\n",
    "                capture_col -= 1\n",
    "\n",
    "            if self.board[capture_row][capture_col] != \" \" and self.board[capture_row][capture_col] != piece:\n",
    "                # Capture the opponent's piece\n",
    "                self.board[capture_row][capture_col] = \" \"\n",
    "                print(\"Got ya!\")\n",
    "\n",
    "        self.board[curr_row][curr_col] = \" \"\n",
    "        self.board[new_row][new_col] = piece\n",
    "\n",
    "\n",
    "        self.state = self.state_of_board()\n",
    "\n",
    "        #self.display_board()\n",
    "        # else:\n",
    "        #     print(\"Invalid move\")\n",
    "        \n",
    "        return self\n",
    "\n",
    "    # In this case the only moves are king moves. They can move diagonally in any direction as many spaces\n",
    "    def all_possible_moves(self, player_piece):\n",
    "        possible_moves = []\n",
    "\n",
    "        player_positions = self.player_positions[player_piece]\n",
    "        move_directions = [(1, -1), (1, 1), (-1, -1), (-1, 1)] # f-l, f-r, b-l, b-r\n",
    "\n",
    "        for row, col in player_positions:\n",
    "            for rowd, cold in move_directions:\n",
    "\n",
    "                new_row, new_col = row + rowd, col + cold\n",
    "\n",
    "                for _ in range(self.BOARD_SIZE - 1):\n",
    "                    if 0 <= new_row < self.BOARD_SIZE and 0 <= new_col < self.BOARD_SIZE:\n",
    "                        if self.board[new_row][new_col] == \" \":\n",
    "\n",
    "                            new_board = copy.deepcopy(self.board)\n",
    "                            new_player_positions = copy.deepcopy(self.player_positions)\n",
    "                            new_board[row][col] = \" \"\n",
    "                            new_board[new_row][new_col] = player_piece\n",
    "                            new_player_positions[player_piece] = [(new_row, new_col)]\n",
    "\n",
    "                            possible_moves.append(CurrentBoard(new_board))\n",
    "                        else:\n",
    "                            break\n",
    "                        new_row += rowd\n",
    "                        new_col += cold\n",
    "                    else:\n",
    "                        break\n",
    "\n",
    "        return possible_moves\n",
    "        \n"
   ]
  },
  {
   "cell_type": "markdown",
   "metadata": {},
   "source": [
    "#### Test CurrentBoard Class Functions"
   ]
  },
  {
   "cell_type": "code",
   "execution_count": 52,
   "metadata": {},
   "outputs": [
    {
     "name": "stdout",
     "output_type": "stream",
     "text": [
      "\u001b[34m+----+----+----+----+----+----+----+----+\n",
      "| 0  | \u001b[37mW\u001b[34m  | \u001b[37mB\u001b[34m  | 3  | 4  | 5  | 6  | 7  |\n",
      "+----+----+----+----+----+----+----+----+\n",
      "| 8  | 9  | 10 | 11 | 12 | 13 | 14 | 15 |\n",
      "+----+----+----+----+----+----+----+----+\n",
      "| 16 | 17 | 18 | 19 | 20 | 21 | \u001b[37mB\u001b[34m  | 23 |\n",
      "+----+----+----+----+----+----+----+----+\n",
      "| 24 | \u001b[37mW\u001b[34m  | 26 | 27 | 28 | 29 | 30 | 31 |\n",
      "+----+----+----+----+----+----+----+----+\n",
      "| 32 | 33 | 34 | 35 | 36 | 37 | 38 | 39 |\n",
      "+----+----+----+----+----+----+----+----+\n",
      "| \u001b[37mB\u001b[34m  | 41 | 42 | 43 | 44 | 45 | 46 | 47 |\n",
      "+----+----+----+----+----+----+----+----+\n",
      "| 48 | 49 | 50 | 51 | 52 | 53 | 54 | 55 |\n",
      "+----+----+----+----+----+----+----+----+\n",
      "| 56 | 57 | 58 | 59 | 60 | 61 | \u001b[37mB\u001b[34m  | 63 |\n",
      "+----+----+----+----+----+----+----+----+\n"
     ]
    }
   ],
   "source": [
    "cb = CurrentBoard()\n",
    "cb.initialise_board()\n",
    "cb.display_board(True)"
   ]
  },
  {
   "cell_type": "code",
   "execution_count": 53,
   "metadata": {},
   "outputs": [
    {
     "data": {
      "text/plain": [
       "[<__main__.CurrentBoard at 0x26e98a81010>,\n",
       " <__main__.CurrentBoard at 0x26e98a80f10>,\n",
       " <__main__.CurrentBoard at 0x26e98a829d0>,\n",
       " <__main__.CurrentBoard at 0x26e98a826d0>,\n",
       " <__main__.CurrentBoard at 0x26e98a83f10>,\n",
       " <__main__.CurrentBoard at 0x26e98a83990>,\n",
       " <__main__.CurrentBoard at 0x26e98a83510>,\n",
       " <__main__.CurrentBoard at 0x26e9853c550>,\n",
       " <__main__.CurrentBoard at 0x26e98a39990>,\n",
       " <__main__.CurrentBoard at 0x26e98a78910>,\n",
       " <__main__.CurrentBoard at 0x26e98a92bd0>,\n",
       " <__main__.CurrentBoard at 0x26e98a92290>,\n",
       " <__main__.CurrentBoard at 0x26e98a92990>,\n",
       " <__main__.CurrentBoard at 0x26e98a92dd0>,\n",
       " <__main__.CurrentBoard at 0x26e98a93790>,\n",
       " <__main__.CurrentBoard at 0x26e98a93bd0>]"
      ]
     },
     "execution_count": 53,
     "metadata": {},
     "output_type": "execute_result"
    }
   ],
   "source": [
    "cb.all_possible_moves(\"W\")"
   ]
  },
  {
   "cell_type": "code",
   "execution_count": 54,
   "metadata": {},
   "outputs": [
    {
     "name": "stdout",
     "output_type": "stream",
     "text": [
      "+----+----+----+----+----+----+----+----+\n",
      "|    | W  | B  |    |    |    |    |    |\n",
      "+----+----+----+----+----+----+----+----+\n",
      "|    |    |    |    |    |    |    |    |\n",
      "+----+----+----+----+----+----+----+----+\n",
      "|    |    |    |    |    |    | B  |    |\n",
      "+----+----+----+----+----+----+----+----+\n",
      "|    |    |    |    |    |    |    |    |\n",
      "+----+----+----+----+----+----+----+----+\n",
      "| W  |    |    |    |    |    |    |    |\n",
      "+----+----+----+----+----+----+----+----+\n",
      "| B  |    |    |    |    |    |    |    |\n",
      "+----+----+----+----+----+----+----+----+\n",
      "|    |    |    |    |    |    |    |    |\n",
      "+----+----+----+----+----+----+----+----+\n",
      "|    |    |    |    |    |    | B  |    |\n",
      "+----+----+----+----+----+----+----+----+\n"
     ]
    }
   ],
   "source": [
    "cb.all_possible_moves(\"W\")[0].display_board()"
   ]
  },
  {
   "cell_type": "code",
   "execution_count": 55,
   "metadata": {},
   "outputs": [
    {
     "data": {
      "text/plain": [
       "{'W': [(3, 1), (0, 1)], 'B': [(0, 2), (2, 6), (7, 6), (5, 0)]}"
      ]
     },
     "execution_count": 55,
     "metadata": {},
     "output_type": "execute_result"
    }
   ],
   "source": [
    "cb.player_positions"
   ]
  },
  {
   "cell_type": "code",
   "execution_count": 56,
   "metadata": {},
   "outputs": [
    {
     "data": {
      "text/plain": [
       "'U'"
      ]
     },
     "execution_count": 56,
     "metadata": {},
     "output_type": "execute_result"
    }
   ],
   "source": [
    "cb.state_of_board()"
   ]
  },
  {
   "cell_type": "markdown",
   "metadata": {},
   "source": [
    "### Search Tree Node class"
   ]
  },
  {
   "cell_type": "code",
   "execution_count": 57,
   "metadata": {},
   "outputs": [],
   "source": [
    "class SearchTreeNode:\n",
    "    PIECE_BONUS = 1000\n",
    "    CONTROL_BONUS = 500\n",
    "\n",
    "    def __init__(self,board_instance,playing_as, ply=0):\n",
    "\n",
    "        self.children = []\n",
    "        self.max_ply_depth = 3\n",
    "        self.value_is_assigned = False\n",
    "        self.ply_depth = ply\n",
    "        self.current_board = board_instance\n",
    "        self.move_for = playing_as\n",
    "        \n",
    "        if self.current_board.state == \"U\":\n",
    "            if self.ply_depth <= self.max_ply_depth:\n",
    "                self.generate_children()\n",
    "                self.calculate_value(playing_as)\n",
    "            else:\n",
    "                self.calculate_value(playing_as)\n",
    "        else:  # Game over\n",
    "            if self.current_board.state == \"D\":\n",
    "                self.value = 0\n",
    "            else:\n",
    "                if ((self.ply_depth % 2) == 0):\n",
    "                    self.value = -1000\n",
    "                else:\n",
    "                    self.value = 1000\n",
    "            self.value_is_assigned = True\n",
    "\n",
    "    # evaluation function\n",
    "    def calculate_value(self, player):\n",
    "        player_pieces_left_count = sum(row.count(player) for row in self.current_board.board)\n",
    "        center_control_score = self.count_center_pieces(player)\n",
    "        self.value = player_pieces_left_count*self.PIECE_BONUS + center_control_score*self.CONTROL_BONUS\n",
    "        self.value_is_assigned = True\n",
    "\n",
    "    # check center 6 squares\n",
    "    def count_center_pieces(self, player):\n",
    "        center_row_start = self.current_board.BOARD_SIZE // 2 - 2\n",
    "        center_row_end = center_row_start + 4\n",
    "        center_col_start = self.current_board.BOARD_SIZE // 2 - 2\n",
    "        center_col_end = center_col_start + 4\n",
    "        \n",
    "        center_count = 0\n",
    "\n",
    "        for row in range(center_row_start, center_row_end):\n",
    "            for col in range(center_col_start, center_col_end):\n",
    "                if self.current_board.board[row][col] == player:\n",
    "                    center_count += 1\n",
    "    \n",
    "        return center_count\n",
    "\n",
    "    def min_max_value(self):\n",
    "        if self.value_is_assigned:\n",
    "            return self.value\n",
    "\n",
    "        self.children  = sorted(self.children, key = lambda x:x.min_max_value())\n",
    "\n",
    "        if ((self.ply_depth % 2) == 0):\n",
    "            self.value = self.children[-1].value\n",
    "        else:\n",
    "            self.value = self.children[0].value\n",
    "        self.value_is_assigned = True\n",
    "\n",
    "        return self.value\n",
    "\n",
    "    def generate_children(self):\n",
    "        for board_for_next_move in self.current_board.all_possible_moves(self.move_for):\n",
    "            self.children.append(SearchTreeNode(board_for_next_move, self.current_board.other(self.move_for), ply=self.ply_depth + 1))\n"
   ]
  },
  {
   "cell_type": "markdown",
   "metadata": {},
   "source": [
    "### Test SearchTreeNode Class"
   ]
  },
  {
   "cell_type": "code",
   "execution_count": 58,
   "metadata": {},
   "outputs": [],
   "source": [
    "cb = CurrentBoard()\n",
    "cb.initialise_board()"
   ]
  },
  {
   "cell_type": "code",
   "execution_count": 59,
   "metadata": {},
   "outputs": [],
   "source": [
    "stn = SearchTreeNode(cb, \"W\")"
   ]
  },
  {
   "cell_type": "code",
   "execution_count": 60,
   "metadata": {},
   "outputs": [
    {
     "data": {
      "text/plain": [
       "[<__main__.SearchTreeNode at 0x26e98a948d0>,\n",
       " <__main__.SearchTreeNode at 0x26e98a94f90>,\n",
       " <__main__.SearchTreeNode at 0x26e98a94ad0>,\n",
       " <__main__.SearchTreeNode at 0x26e98a94610>,\n",
       " <__main__.SearchTreeNode at 0x26e98a94890>,\n",
       " <__main__.SearchTreeNode at 0x26e98a94450>,\n",
       " <__main__.SearchTreeNode at 0x26e98a947d0>,\n",
       " <__main__.SearchTreeNode at 0x26e98a942d0>,\n",
       " <__main__.SearchTreeNode at 0x26e98b2c410>,\n",
       " <__main__.SearchTreeNode at 0x26e98a94690>,\n",
       " <__main__.SearchTreeNode at 0x26e98b2c210>,\n",
       " <__main__.SearchTreeNode at 0x26e98b2f110>,\n",
       " <__main__.SearchTreeNode at 0x26e98b2d2d0>,\n",
       " <__main__.SearchTreeNode at 0x26e98b2de10>,\n",
       " <__main__.SearchTreeNode at 0x26e98b2c910>,\n",
       " <__main__.SearchTreeNode at 0x26e98b2ce10>]"
      ]
     },
     "execution_count": 60,
     "metadata": {},
     "output_type": "execute_result"
    }
   ],
   "source": [
    "stn.children"
   ]
  },
  {
   "cell_type": "code",
   "execution_count": 61,
   "metadata": {},
   "outputs": [
    {
     "name": "stdout",
     "output_type": "stream",
     "text": [
      "+----+----+----+----+----+----+----+----+\n",
      "|    |    |    |    |    |    |    |    |\n",
      "+----+----+----+----+----+----+----+----+\n",
      "|    | B  |    |    |    |    |    |    |\n",
      "+----+----+----+----+----+----+----+----+\n",
      "|    |    |    |    |    |    |    |    |\n",
      "+----+----+----+----+----+----+----+----+\n",
      "|    |    |    |    |    |    |    |    |\n",
      "+----+----+----+----+----+----+----+----+\n",
      "|    |    | B  |    | B  |    |    |    |\n",
      "+----+----+----+----+----+----+----+----+\n",
      "|    |    |    |    |    |    |    |    |\n",
      "+----+----+----+----+----+----+----+----+\n",
      "|    | W  |    |    |    |    |    |    |\n",
      "+----+----+----+----+----+----+----+----+\n",
      "|    |    | B  |    | W  |    |    |    |\n",
      "+----+----+----+----+----+----+----+----+\n"
     ]
    }
   ],
   "source": [
    "# show first move for white player\n",
    "stn.children[0].current_board.display_board()"
   ]
  },
  {
   "cell_type": "code",
   "execution_count": 62,
   "metadata": {},
   "outputs": [
    {
     "name": "stdout",
     "output_type": "stream",
     "text": [
      "+----+----+----+----+----+----+----+----+\n",
      "|    |    |    |    |    |    |    |    |\n",
      "+----+----+----+----+----+----+----+----+\n",
      "|    | B  |    |    |    |    |    |    |\n",
      "+----+----+----+----+----+----+----+----+\n",
      "|    |    |    |    |    |    |    |    |\n",
      "+----+----+----+----+----+----+----+----+\n",
      "|    |    |    |    |    |    |    |    |\n",
      "+----+----+----+----+----+----+----+----+\n",
      "|    |    | B  |    | B  |    |    |    |\n",
      "+----+----+----+----+----+----+----+----+\n",
      "|    |    |    |    |    |    |    |    |\n",
      "+----+----+----+----+----+----+----+----+\n",
      "|    | W  |    | W  |    |    |    |    |\n",
      "+----+----+----+----+----+----+----+----+\n",
      "|    |    | B  |    |    |    |    |    |\n",
      "+----+----+----+----+----+----+----+----+\n"
     ]
    }
   ],
   "source": [
    "cb.display_board()"
   ]
  },
  {
   "cell_type": "code",
   "execution_count": 63,
   "metadata": {},
   "outputs": [
    {
     "data": {
      "text/plain": [
       "0"
      ]
     },
     "execution_count": 63,
     "metadata": {},
     "output_type": "execute_result"
    }
   ],
   "source": [
    "stn.count_center_pieces(\"W\")"
   ]
  },
  {
   "cell_type": "code",
   "execution_count": 64,
   "metadata": {},
   "outputs": [
    {
     "data": {
      "text/plain": [
       "2000"
      ]
     },
     "execution_count": 64,
     "metadata": {},
     "output_type": "execute_result"
    }
   ],
   "source": [
    "stn.min_max_value()"
   ]
  },
  {
   "cell_type": "code",
   "execution_count": 65,
   "metadata": {},
   "outputs": [],
   "source": [
    "stn.calculate_value(\"B\")"
   ]
  },
  {
   "cell_type": "code",
   "execution_count": 66,
   "metadata": {},
   "outputs": [
    {
     "data": {
      "text/plain": [
       "5000"
      ]
     },
     "execution_count": 66,
     "metadata": {},
     "output_type": "execute_result"
    }
   ],
   "source": [
    "stn.value"
   ]
  },
  {
   "cell_type": "markdown",
   "metadata": {},
   "source": [
    "## PLay Draughts Class"
   ]
  },
  {
   "cell_type": "code",
   "execution_count": 67,
   "metadata": {},
   "outputs": [],
   "source": [
    "def play_draughts():\n",
    "\n",
    "    MAX_MOVES = 10\n",
    "\n",
    "    response = input(\"Do you want to play first? (y/n)\")\n",
    "    players_turn = (response == \"y\")\n",
    "\n",
    "    response = input(\"Do you want to play as black or white? (b/w)\")\n",
    "    \n",
    "\n",
    "    if response == \"b\":\n",
    "        player_is_playing = \"B\"\n",
    "    else:\n",
    "        player_is_playing = \"W\"\n",
    "\n",
    "    cb = CurrentBoard()\n",
    "    cb.initialise_board()\n",
    "\n",
    "    for _ in range(MAX_MOVES):\n",
    "\n",
    "        if players_turn:\n",
    "            cb.display_board(game_display=True)\n",
    "\n",
    "            piece_choice = None\n",
    "\n",
    "            while piece_choice is None:\n",
    "                try:\n",
    "                    piece_choice = int(input(\"Select the index of the piece to move: \"))\n",
    "                    if piece_choice < 0 or piece_choice >= 64:\n",
    "                        print(\"Invalid, please try again (0 and 63)\")\n",
    "                    elif cb.board[piece_choice // 8][piece_choice % 8] != player_is_playing:\n",
    "                        print(\"Invalid, the selected piece does not belong to you\")\n",
    "                        piece_choice = None\n",
    "                except ValueError:\n",
    "                    print(\"Invalid input, please enter a number\")\n",
    "\n",
    "            destination_choice = None\n",
    "\n",
    "            while destination_choice is None:\n",
    "                try:\n",
    "                    destination_choice = int(input(\"Select the index of the destination square: \"))\n",
    "                    if destination_choice < 0 or destination_choice >= 64:\n",
    "                        print(\"Invalid, please try again (0 and 63)\")\n",
    "                    elif cb.board[destination_choice // 8][destination_choice % 8] != ' ':\n",
    "                        print(\"Invalid, the selected position is occupied\")\n",
    "                        destination_choice = None\n",
    "                except ValueError:\n",
    "                    print(\"Invalid input, please enter a number\")\n",
    "\n",
    "            cb = cb.move_piece_on_board(player_is_playing, piece_choice, destination_choice)\n",
    "            cb.display_board()\n",
    "            \n",
    "        # not players turn    \n",
    "        else:\n",
    "            print(\"Player Two's Turn\")\n",
    "            search_tree = SearchTreeNode(cb, cb.other(player_is_playing))\n",
    "            search_tree.min_max_value()\n",
    "            cb = search_tree.children[-1].current_board\n",
    "            print(\"Other player's move\")\n",
    "            cb.display_board()\n",
    "\n",
    "        if cb.state != \"U\":\n",
    "            if cb.state == \"D\":\n",
    "                print(\"It's a draw\")\n",
    "            else:\n",
    "                if players_turn:\n",
    "                    print(\"You win\")\n",
    "                else:\n",
    "                    print(\"You lose!\")\n",
    "\n",
    "                cb.display_board()\n",
    "            break\n",
    "\n",
    "        players_turn = not players_turn\n"
   ]
  },
  {
   "cell_type": "markdown",
   "metadata": {},
   "source": [
    "## Play the Game"
   ]
  },
  {
   "cell_type": "code",
   "execution_count": 68,
   "metadata": {},
   "outputs": [],
   "source": [
    "#play_draughts()"
   ]
  }
 ],
 "metadata": {
  "kernelspec": {
   "display_name": "Python 3",
   "language": "python",
   "name": "python3"
  },
  "language_info": {
   "codemirror_mode": {
    "name": "ipython",
    "version": 3
   },
   "file_extension": ".py",
   "mimetype": "text/x-python",
   "name": "python",
   "nbconvert_exporter": "python",
   "pygments_lexer": "ipython3",
   "version": "3.11.5"
  }
 },
 "nbformat": 4,
 "nbformat_minor": 2
}
