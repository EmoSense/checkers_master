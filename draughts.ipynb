{
 "cells": [
  {
   "cell_type": "code",
   "execution_count": 21,
   "metadata": {},
   "outputs": [],
   "source": [
    "import random"
   ]
  },
  {
   "cell_type": "markdown",
   "metadata": {},
   "source": [
    "# Draughts Endgame : 4 Kings x 2 Kings"
   ]
  },
  {
   "cell_type": "markdown",
   "metadata": {},
   "source": [
    "In the end I decided to create a game of drafts following an endgame based on the following:\n",
    "\n",
    "https://lidraughts.org/study/YiAZbWM6\n",
    "\n",
    "I decided to go with 4 kings vs 2 kings.\n",
    "\n",
    "In this scenario, there will be only one 'type' of move. Kings are able to move diagonally forward and backwards, as well as capture other pieces."
   ]
  },
  {
   "cell_type": "markdown",
   "metadata": {},
   "source": [
    "## Draughts Class\n",
    "Class which determines start position of pieces, board state, and display the board"
   ]
  },
  {
   "cell_type": "code",
   "execution_count": 24,
   "metadata": {},
   "outputs": [
    {
     "name": "stdout",
     "output_type": "stream",
     "text": [
      "[4, 57, 37, 52, 60, 42]\n"
     ]
    }
   ],
   "source": [
    "start_positons = random.sample(range(64), 6)\n",
    "print(start_positons)"
   ]
  },
  {
   "cell_type": "code",
   "execution_count": 35,
   "metadata": {},
   "outputs": [],
   "source": [
    "class CurrentBoard:\n",
    "\n",
    "    BOARD_SIZE = 8\n",
    "    PLAYER_COUNT = 6\n",
    "\n",
    "    def __init__(self):\n",
    "        self.board = [[\" \" for _ in range(self.BOARD_SIZE)] for _ in range(self.BOARD_SIZE)]\n",
    "        #self.player_colour = player_colour\n",
    "        self.state = self.state_of_board()\n",
    "        self.initial_board()\n",
    "\n",
    "    # set up the initial board with the 6 pieces in the correct positions\n",
    "    def initial_board(self):\n",
    "\n",
    "        start_positons = random.sample(range(self.BOARD_SIZE*self.BOARD_SIZE), self.PLAYER_COUNT)\n",
    "        white_kings = start_positons[:2]\n",
    "        black_kings = start_positons[2:]\n",
    "\n",
    "        for index in white_kings:\n",
    "            row = index // self.BOARD_SIZE\n",
    "            col = index % self.BOARD_SIZE\n",
    "            self.board[row][col] = \"W\"\n",
    "        \n",
    "        # for row, col in black_kings:\n",
    "        #     self.board[row][col] = \"B\"\n",
    "\n",
    "        #print(white_kings)\n",
    "        #print(black_kings)\n",
    "\n",
    "\n",
    "\n",
    "\n",
    "\n",
    "    def display_board(self, game_display = False):\n",
    "        print(\"+\" + \"---+\" * self.BOARD_SIZE)\n",
    "        for row in range(self.BOARD_SIZE):\n",
    "            print(\"|\", end=\"\")\n",
    "            for col in range(self.BOARD_SIZE):\n",
    "                print(f\" {self.board[row][col]} |\", end=\"\")\n",
    "            print()\n",
    "            print(\"+\" + \"---+\" * self.BOARD_SIZE)\n",
    "\n",
    "    def state_of_board(self):\n",
    "        # to check the state of the board for a win, loss, or draw\n",
    "        state = \"Unfinished function\"\n",
    "    \n",
    "        return state\n",
    "\n",
    "    # In this case the only moves are king moves. They can move as outlined above\n",
    "    def all_possible_moves(self, player_piece):\n",
    "        possible_moves = []\n",
    "\n",
    "        for row in range(self.BOARD_SIZE):\n",
    "            # need to check all rows dependant on player location\n",
    "            if self.board[row][0] == \" \":\n",
    "                new_column = self.put_piece_in_column(player_piece, self.board[row])\n",
    "                new_board = self.board[:row] + [new_column] + self.board[row + 1:]\n",
    "                possible_moves.append(CurrentBoard(new_board))\n",
    "\n",
    "        return possible_moves\n"
   ]
  },
  {
   "cell_type": "code",
   "execution_count": 36,
   "metadata": {},
   "outputs": [
    {
     "ename": "TypeError",
     "evalue": "cannot unpack non-iterable int object",
     "output_type": "error",
     "traceback": [
      "\u001b[1;31m---------------------------------------------------------------------------\u001b[0m",
      "\u001b[1;31mTypeError\u001b[0m                                 Traceback (most recent call last)",
      "Cell \u001b[1;32mIn [36], line 1\u001b[0m\n\u001b[1;32m----> 1\u001b[0m cb \u001b[38;5;241m=\u001b[39m \u001b[43mCurrentBoard\u001b[49m\u001b[43m(\u001b[49m\u001b[43m)\u001b[49m\n",
      "Cell \u001b[1;32mIn [35], line 10\u001b[0m, in \u001b[0;36mCurrentBoard.__init__\u001b[1;34m(self)\u001b[0m\n\u001b[0;32m      8\u001b[0m \u001b[38;5;66;03m#self.player_colour = player_colour\u001b[39;00m\n\u001b[0;32m      9\u001b[0m \u001b[38;5;28mself\u001b[39m\u001b[38;5;241m.\u001b[39mstate \u001b[38;5;241m=\u001b[39m \u001b[38;5;28mself\u001b[39m\u001b[38;5;241m.\u001b[39mstate_of_board()\n\u001b[1;32m---> 10\u001b[0m \u001b[38;5;28;43mself\u001b[39;49m\u001b[38;5;241;43m.\u001b[39;49m\u001b[43minitial_board\u001b[49m\u001b[43m(\u001b[49m\u001b[43m)\u001b[49m\n",
      "Cell \u001b[1;32mIn [35], line 19\u001b[0m, in \u001b[0;36mCurrentBoard.initial_board\u001b[1;34m(self)\u001b[0m\n\u001b[0;32m     16\u001b[0m white_kings \u001b[38;5;241m=\u001b[39m start_positons[:\u001b[38;5;241m2\u001b[39m]\n\u001b[0;32m     17\u001b[0m black_kings \u001b[38;5;241m=\u001b[39m start_positons[\u001b[38;5;241m2\u001b[39m:]\n\u001b[1;32m---> 19\u001b[0m \u001b[38;5;28;01mfor\u001b[39;00m row, col \u001b[38;5;129;01min\u001b[39;00m white_kings:\n\u001b[0;32m     20\u001b[0m     \u001b[38;5;28mself\u001b[39m\u001b[38;5;241m.\u001b[39mboard[row][col] \u001b[38;5;241m=\u001b[39m \u001b[38;5;124m\"\u001b[39m\u001b[38;5;124mW\u001b[39m\u001b[38;5;124m\"\u001b[39m\n\u001b[0;32m     22\u001b[0m \u001b[38;5;28;01mfor\u001b[39;00m row, col \u001b[38;5;129;01min\u001b[39;00m black_kings:\n",
      "\u001b[1;31mTypeError\u001b[0m: cannot unpack non-iterable int object"
     ]
    }
   ],
   "source": [
    "cb = CurrentBoard()"
   ]
  },
  {
   "cell_type": "code",
   "execution_count": 16,
   "metadata": {},
   "outputs": [],
   "source": [
    "\"\"\"  taken from searchtreeconnect4 :\n",
    "https://github.com/Robert-Sheehy/AI/blob/main/2024/Search%20Tree/searchtreeconnect4_24.py\n",
    "\"\"\"\n",
    "class SearchTreeNode:\n",
    "\n",
    "    def __init__(self,board_instance,playing_as, ply=0):\n",
    "        self.children = []\n",
    "        #self.max_ply_depth = 3\n",
    "        self.value_is_assigned = False\n",
    "        self.ply_depth = ply\n",
    "        self.current_board = board_instance\n",
    "        self.move_for = playing_as\n",
    "\n",
    "        if self.current_board.state == \"U\":\n",
    "            if self.ply_depth<= self.max_ply_depth:\n",
    "                self.generate_children()\n",
    "            else:\n",
    "                # evaluation function code\n",
    "                r =1\n",
    "\n",
    "        else:   # Game over\n",
    "            if self.current_board.state == \"D\":\n",
    "                self.value = 0\n",
    "            else:\n",
    "                if ((self.ply_depth % 2) == 0):\n",
    "                    self.value = -1000\n",
    "                else:\n",
    "                    self.value = 1000\n",
    "            self.value_is_assigned = True\n",
    "\n",
    "    def min_max_value(self):\n",
    "        if self.value_is_assigned:\n",
    "            return self.value\n",
    "\n",
    "        self.children  = sorted(self.children, key = lambda x:x.min_max_value())\n",
    "\n",
    "        if ((self.ply_depth % 2) == 0):\n",
    "            # computers move\n",
    "            self.value = self.children[-1].value\n",
    "        else:\n",
    "            #players move\n",
    "            self.value = self.children[0].value\n",
    "        self.value_is_assigned = True\n",
    "\n",
    "        return self.value\n",
    "\n",
    "    def generate_children(self):\n",
    "        for board_for_next_move in self.current_board.all_possible_moves(self.move_for):\n",
    "            self.children.append(SearchTreeNode(board_for_next_move,self.current_board.other(self.move_for), ply = self.ply_depth +1))\n"
   ]
  },
  {
   "cell_type": "code",
   "execution_count": 17,
   "metadata": {},
   "outputs": [],
   "source": [
    "stn = SearchTreeNode(cb, \"X\")"
   ]
  },
  {
   "cell_type": "code",
   "execution_count": 19,
   "metadata": {},
   "outputs": [
    {
     "data": {
      "text/plain": [
       "[]"
      ]
     },
     "execution_count": 19,
     "metadata": {},
     "output_type": "execute_result"
    }
   ],
   "source": [
    "stn.children"
   ]
  },
  {
   "cell_type": "markdown",
   "metadata": {},
   "source": [
    "## Play the Game"
   ]
  },
  {
   "cell_type": "code",
   "execution_count": 17,
   "metadata": {},
   "outputs": [],
   "source": [
    "def play_draughts():\n",
    "\n",
    "    MAX_MOVES = 10\n",
    "\n",
    "    response = input(\"Do you want to play first? (y/n)\")\n",
    "    players_turn = (response == \"y\")\n",
    "\n",
    "    response = input(\"Do you want to play as black or white? (b/w)\")\n",
    "    cb = CurrentBoard()\n",
    "\n",
    "    player_is_playing = cb.other(cb.other(response))\n",
    "\n",
    "    for _ in range(MAX_MOVES):\n",
    "\n",
    "        if players_turn:\n",
    "            cb.display(game_display=True)\n",
    "\n",
    "            while True:\n",
    "                try:\n",
    "                    choice = int(input(\"Make your move (Enter index of board): \"))\n",
    "                    if choice < 0 or choice >= 64:\n",
    "                        print(\"Invalid index, please try again (0 and 63)\")\n",
    "                    elif cb.board[choice] != ' ':\n",
    "                        print(\"Invalid index, the selected position is occupied\")\n",
    "                    else:\n",
    "                        break\n",
    "                except ValueError:\n",
    "                    print(\"Invalid input, please enter a number\")\n",
    "\n",
    "            cb.move_piece(choice, player_is_playing)\n",
    "            cb.display()\n",
    "            \n",
    "        else:\n",
    "            search_tree = SearchTreeNode(cb, cb.other(player_is_playing))\n",
    "            search_tree.min_max_value()\n",
    "            cb = search_tree.children[-1].current_board\n",
    "            cb.display()\n",
    "\n",
    "        if cb.state != \"U\":\n",
    "            if cb.state == \"D\":\n",
    "                print(\"It's a draw\")\n",
    "            else:\n",
    "                if players_turn:\n",
    "                    print(\"You win\")\n",
    "                else:\n",
    "                    print(\"You lose!\")\n",
    "\n",
    "                cb.display()\n",
    "            break\n",
    "\n",
    "        players_turn = not players_turn\n"
   ]
  },
  {
   "cell_type": "markdown",
   "metadata": {},
   "source": []
  }
 ],
 "metadata": {
  "kernelspec": {
   "display_name": "Python 3",
   "language": "python",
   "name": "python3"
  },
  "language_info": {
   "codemirror_mode": {
    "name": "ipython",
    "version": 3
   },
   "file_extension": ".py",
   "mimetype": "text/x-python",
   "name": "python",
   "nbconvert_exporter": "python",
   "pygments_lexer": "ipython3",
   "version": "3.11.5"
  }
 },
 "nbformat": 4,
 "nbformat_minor": 2
}
