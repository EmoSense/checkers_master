{
 "cells": [
  {
   "cell_type": "code",
   "execution_count": 5,
   "metadata": {},
   "outputs": [],
   "source": [
    "import random\n",
    "import copy"
   ]
  },
  {
   "cell_type": "markdown",
   "metadata": {},
   "source": [
    "# Draughts Endgame : 4 Kings x 2 Kings"
   ]
  },
  {
   "cell_type": "markdown",
   "metadata": {},
   "source": [
    "In the end I decided to create a game of drafts following an endgame based on the following:\n",
    "\n",
    "https://lidraughts.org/study/YiAZbWM6\n",
    "\n",
    "I decided to go with 4 kings vs 2 kings.\n",
    "\n",
    "In this scenario, there will be only one 'type' of move. Kings are able to move diagonally forward and backwards, as well as capture other pieces."
   ]
  },
  {
   "cell_type": "markdown",
   "metadata": {},
   "source": [
    "## Draughts Class\n",
    "Class which determines start position of pieces, board state, and display the board"
   ]
  },
  {
   "cell_type": "code",
   "execution_count": 14,
   "metadata": {},
   "outputs": [],
   "source": [
    "class CurrentBoard:\n",
    "\n",
    "    BOARD_SIZE = 6\n",
    "    PLAYER_COUNT = 6\n",
    "\n",
    "    def __init__(self, board=None):\n",
    "        if board is None:\n",
    "            self.board = [[\" \" for _ in range(self.BOARD_SIZE)] for _ in range(self.BOARD_SIZE)]\n",
    "        else:\n",
    "            self.board = board\n",
    "        self.player_positions = {\"W\": [], \"B\": []}\n",
    "        self.state = self.state_of_board()\n",
    "\n",
    "    def initial_board(self):\n",
    "        start_positons = random.sample(range(self.BOARD_SIZE*self.BOARD_SIZE), self.PLAYER_COUNT)\n",
    "\n",
    "        white_kings = start_positons[:2]\n",
    "        black_kings = start_positons[2:]\n",
    "\n",
    "        # assign the players their positions on the board by calculating the row and col\n",
    "        for index in white_kings:\n",
    "            row = index // self.BOARD_SIZE\n",
    "            col = index % self.BOARD_SIZE\n",
    "            self.board[row][col] = \"W\"\n",
    "            self.player_positions[\"W\"].append((row,col))\n",
    "        \n",
    "        for index in black_kings:\n",
    "            row = index // self.BOARD_SIZE\n",
    "            col = index % self.BOARD_SIZE\n",
    "            self.board[row][col] = \"B\"\n",
    "            self.player_positions[\"B\"].append((row,col))\n",
    "\n",
    "\n",
    "    def display_board(self, game_display = False):\n",
    "        print(\"+\" + \"---+\" * self.BOARD_SIZE)\n",
    "        for row in range(self.BOARD_SIZE):\n",
    "            print(\"|\", end=\"\")\n",
    "            for col in range(self.BOARD_SIZE):\n",
    "                print(f\" {self.board[row][col]} |\", end=\"\")\n",
    "            print()\n",
    "            print(\"+\" + \"---+\" * self.BOARD_SIZE)\n",
    "\n",
    "    def state_of_board(self):\n",
    "        # to check the state of the board for a win, loss, or draw\n",
    "        state = \"Unfinished function\"\n",
    "\n",
    "        # Check win white\n",
    "        # Check win black\n",
    "        # Check draw\n",
    "        return state\n",
    "\n",
    "    # In this case the only moves are king moves. They can move as outlined above\n",
    "    def all_possible_moves(self, player_piece):\n",
    "        possible_moves = []\n",
    "\n",
    "        player_positions = self.player_positions[player_piece]\n",
    "\n",
    "        move_directions = [(1, -1), (1, 1), (-1, -1), (-1, 1)] # f-l, f-r, b-l, b-r\n",
    "\n",
    "        for row, col in player_positions:\n",
    "\n",
    "            for rowd, cold in move_directions:\n",
    "                new_row, new_col = row + rowd, col + cold\n",
    "\n",
    "                for _ in range(self.BOARD_SIZE - 1):\n",
    "\n",
    "                    if 0 <= new_row < self.BOARD_SIZE and 0 <= new_col < self.BOARD_SIZE:\n",
    "                        if self.board[new_row][new_col] == \" \":\n",
    "                            new_board = copy.deepcopy(self.board)\n",
    "                            new_player_positions = copy.deepcopy(self.player_positions)\n",
    "                            new_board[row][col] = \" \"\n",
    "                            new_board[new_row][new_col] = player_piece\n",
    "                            new_player_positions[player_piece] = [(new_row, new_col)]\n",
    "                            possible_moves.append(CurrentBoard(new_board))\n",
    "                        else:\n",
    "                            break\n",
    "                        new_row += rowd\n",
    "                        new_col += cold\n",
    "                    else:\n",
    "                        break\n",
    "\n",
    "        return possible_moves\n",
    "\n",
    "\n",
    "\n",
    "\n",
    "\n"
   ]
  },
  {
   "cell_type": "code",
   "execution_count": 15,
   "metadata": {},
   "outputs": [],
   "source": [
    "cb = CurrentBoard()"
   ]
  },
  {
   "cell_type": "code",
   "execution_count": 16,
   "metadata": {},
   "outputs": [],
   "source": [
    "cb.initial_board()"
   ]
  },
  {
   "cell_type": "code",
   "execution_count": 17,
   "metadata": {},
   "outputs": [
    {
     "data": {
      "text/plain": [
       "{'W': [(2, 5), (4, 0)], 'B': [(2, 4), (1, 1), (4, 4), (2, 0)]}"
      ]
     },
     "execution_count": 17,
     "metadata": {},
     "output_type": "execute_result"
    }
   ],
   "source": [
    "# check player positions\n",
    "cb.player_positions"
   ]
  },
  {
   "cell_type": "code",
   "execution_count": 18,
   "metadata": {},
   "outputs": [
    {
     "name": "stdout",
     "output_type": "stream",
     "text": [
      "+---+---+---+---+---+---+\n",
      "|   |   |   |   |   |   |\n",
      "+---+---+---+---+---+---+\n",
      "|   | B |   |   |   |   |\n",
      "+---+---+---+---+---+---+\n",
      "| B |   |   |   | B | W |\n",
      "+---+---+---+---+---+---+\n",
      "|   |   |   |   |   |   |\n",
      "+---+---+---+---+---+---+\n",
      "| W |   |   |   | B |   |\n",
      "+---+---+---+---+---+---+\n",
      "|   |   |   |   |   |   |\n",
      "+---+---+---+---+---+---+\n"
     ]
    }
   ],
   "source": [
    "# Show initial board\n",
    "cb.display_board()"
   ]
  },
  {
   "cell_type": "code",
   "execution_count": 19,
   "metadata": {},
   "outputs": [
    {
     "data": {
      "text/plain": [
       "[<__main__.CurrentBoard at 0x1650b50f110>,\n",
       " <__main__.CurrentBoard at 0x1650b528bd0>,\n",
       " <__main__.CurrentBoard at 0x1650b528290>,\n",
       " <__main__.CurrentBoard at 0x1650b529a50>,\n",
       " <__main__.CurrentBoard at 0x1650b528e90>,\n",
       " <__main__.CurrentBoard at 0x1650b5296d0>,\n",
       " <__main__.CurrentBoard at 0x1650b9a0250>,\n",
       " <__main__.CurrentBoard at 0x1650ba1ac90>,\n",
       " <__main__.CurrentBoard at 0x1650ba19bd0>,\n",
       " <__main__.CurrentBoard at 0x1650ba190d0>]"
      ]
     },
     "execution_count": 19,
     "metadata": {},
     "output_type": "execute_result"
    }
   ],
   "source": [
    "# check all moves fro player based on position\n",
    "cb.all_possible_moves(\"W\")"
   ]
  },
  {
   "cell_type": "code",
   "execution_count": 20,
   "metadata": {},
   "outputs": [
    {
     "name": "stdout",
     "output_type": "stream",
     "text": [
      "+---+---+---+---+---+---+\n",
      "|   |   |   |   |   |   |\n",
      "+---+---+---+---+---+---+\n",
      "|   | B |   |   | W |   |\n",
      "+---+---+---+---+---+---+\n",
      "| B |   |   |   | B |   |\n",
      "+---+---+---+---+---+---+\n",
      "|   |   |   |   |   |   |\n",
      "+---+---+---+---+---+---+\n",
      "| W |   |   |   | B |   |\n",
      "+---+---+---+---+---+---+\n",
      "|   |   |   |   |   |   |\n",
      "+---+---+---+---+---+---+\n"
     ]
    }
   ],
   "source": [
    "cb.all_possible_moves(\"W\")[3].display_board()"
   ]
  },
  {
   "cell_type": "code",
   "execution_count": 378,
   "metadata": {},
   "outputs": [],
   "source": [
    "\"\"\"  taken from searchtreeconnect4 :\n",
    "https://github.com/Robert-Sheehy/AI/blob/main/2024/Search%20Tree/searchtreeconnect4_24.py\n",
    "\"\"\"\n",
    "class SearchTreeNode:\n",
    "\n",
    "    def __init__(self,board_instance,playing_as, ply=0):\n",
    "        self.children = []\n",
    "        self.max_ply_depth = 3\n",
    "        self.value_is_assigned = False\n",
    "        self.ply_depth = ply\n",
    "        self.current_board = board_instance\n",
    "        self.move_for = playing_as\n",
    "\n",
    "        if self.current_board.state == \"U\":\n",
    "            if self.ply_depth<= self.max_ply_depth:\n",
    "                self.generate_children()\n",
    "            else:\n",
    "                # evaluation function code\n",
    "                pass\n",
    "\n",
    "        else:   # Game over\n",
    "            if self.current_board.state == \"D\":\n",
    "                self.value = 0\n",
    "            else:\n",
    "                if ((self.ply_depth % 2) == 0):\n",
    "                    self.value = -1000\n",
    "                else:\n",
    "                    self.value = 1000\n",
    "            self.value_is_assigned = True\n",
    "\n",
    "    def min_max_value(self):\n",
    "        if self.value_is_assigned:\n",
    "            return self.value\n",
    "\n",
    "        self.children  = sorted(self.children, key = lambda x:x.min_max_value())\n",
    "\n",
    "        if ((self.ply_depth % 2) == 0):\n",
    "            # computers move\n",
    "            self.value = self.children[-1].value\n",
    "        else:\n",
    "            #players move\n",
    "            self.value = self.children[0].value\n",
    "        self.value_is_assigned = True\n",
    "\n",
    "        return self.value\n",
    "\n",
    "    def generate_children(self):\n",
    "        for board_for_next_move in self.current_board.all_possible_moves(self.move_for):\n",
    "            self.children.append(SearchTreeNode(board_for_next_move, self.current_board.other(self.move_for), ply=self.ply_depth + 1))\n"
   ]
  },
  {
   "cell_type": "code",
   "execution_count": 379,
   "metadata": {},
   "outputs": [],
   "source": [
    "stn = SearchTreeNode(cb, \"W\")"
   ]
  },
  {
   "cell_type": "code",
   "execution_count": 380,
   "metadata": {},
   "outputs": [
    {
     "data": {
      "text/plain": [
       "[]"
      ]
     },
     "execution_count": 380,
     "metadata": {},
     "output_type": "execute_result"
    }
   ],
   "source": [
    "stn.children"
   ]
  },
  {
   "cell_type": "markdown",
   "metadata": {},
   "source": [
    "## PLay Draughts Class"
   ]
  },
  {
   "cell_type": "code",
   "execution_count": 26,
   "metadata": {},
   "outputs": [],
   "source": [
    "def play_draughts():\n",
    "\n",
    "    MAX_MOVES = 10\n",
    "\n",
    "    response = input(\"Do you want to play first? (y/n)\")\n",
    "    players_turn = (response == \"y\")\n",
    "\n",
    "    response = input(\"Do you want to play as black or white? (b/w)\")\n",
    "    cb = CurrentBoard()\n",
    "\n",
    "    if response == \"b\":\n",
    "        player_is_playing = \"B\"\n",
    "    else:\n",
    "        player_is_playing = \"W\"\n",
    "\n",
    "    for _ in range(MAX_MOVES):\n",
    "\n",
    "        if players_turn:\n",
    "            cb.display_board(game_display=True)\n",
    "\n",
    "            while True:\n",
    "                try:\n",
    "                    choice = int(input(\"Make your move (Enter index of board): \"))\n",
    "                    if choice < 0 or choice >= 64:\n",
    "                        print(\"Invalid index, please try again (0 and 63)\")\n",
    "                    elif cb.board[choice] != ' ':\n",
    "                        print(\"Invalid index, the selected position is occupied\")\n",
    "                    else:\n",
    "                        break\n",
    "                except ValueError:\n",
    "                    print(\"Invalid input, please enter a number\")\n",
    "\n",
    "            cb = cb.move_piece(choice, player_is_playing)\n",
    "            cb.display_board()\n",
    "            \n",
    "        else:\n",
    "            search_tree = SearchTreeNode(cb, cb.other(player_is_playing))\n",
    "            search_tree.min_max_value()\n",
    "            cb = search_tree.children[-1].current_board\n",
    "            cb.display_board()\n",
    "\n",
    "        if cb.state != \"U\":\n",
    "            if cb.state == \"D\":\n",
    "                print(\"It's a draw\")\n",
    "            else:\n",
    "                if players_turn:\n",
    "                    print(\"You win\")\n",
    "                else:\n",
    "                    print(\"You lose!\")\n",
    "\n",
    "                cb.display_board()\n",
    "            break\n",
    "\n",
    "        players_turn = not players_turn\n"
   ]
  },
  {
   "cell_type": "markdown",
   "metadata": {},
   "source": [
    "## Play the Game"
   ]
  },
  {
   "cell_type": "code",
   "execution_count": 27,
   "metadata": {},
   "outputs": [
    {
     "name": "stdout",
     "output_type": "stream",
     "text": [
      "+---+---+---+---+---+---+\n",
      "|   |   |   |   |   |   |\n",
      "+---+---+---+---+---+---+\n",
      "|   |   |   |   |   |   |\n",
      "+---+---+---+---+---+---+\n",
      "|   |   |   |   |   |   |\n",
      "+---+---+---+---+---+---+\n",
      "|   |   |   |   |   |   |\n",
      "+---+---+---+---+---+---+\n",
      "|   |   |   |   |   |   |\n",
      "+---+---+---+---+---+---+\n",
      "|   |   |   |   |   |   |\n",
      "+---+---+---+---+---+---+\n",
      "Invalid index, the selected position is occupied\n",
      "Invalid input, please enter a number\n",
      "Invalid input, please enter a number\n",
      "Invalid input, please enter a number\n"
     ]
    }
   ],
   "source": [
    "play_draughts()"
   ]
  }
 ],
 "metadata": {
  "kernelspec": {
   "display_name": "Python 3",
   "language": "python",
   "name": "python3"
  },
  "language_info": {
   "codemirror_mode": {
    "name": "ipython",
    "version": 3
   },
   "file_extension": ".py",
   "mimetype": "text/x-python",
   "name": "python",
   "nbconvert_exporter": "python",
   "pygments_lexer": "ipython3",
   "version": "3.11.5"
  }
 },
 "nbformat": 4,
 "nbformat_minor": 2
}
