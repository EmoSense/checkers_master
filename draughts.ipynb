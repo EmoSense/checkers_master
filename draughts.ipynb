{
 "cells": [
  {
   "cell_type": "markdown",
   "metadata": {},
   "source": [
    "### Draughts Class"
   ]
  },
  {
   "cell_type": "code",
   "execution_count": 198,
   "metadata": {},
   "outputs": [],
   "source": [
    "class CurrentBoard:\n",
    "    # Draughts\n",
    "    # 8 rows\n",
    "    # 8 columns\n",
    "    # 12 pieces per player - \n",
    "    def __init__(self):\n",
    "        self.board = [[\" \" for _ in range(8)] for _ in range(8)]\n",
    "        #self.state = self.state_of_board()\n",
    "        self.initial_board()\n",
    "        self.display_board()\n",
    "\n",
    "    # set up the initial board with the pieces in the correct positions\n",
    "    def initial_board(self):\n",
    "        start_position_O = 3\n",
    "        start_position_X = 4\n",
    "\n",
    "        for row in range(len(self.board)):\n",
    "            for col in range(len(self.board)):\n",
    "                if (row + col) % 2 != 0 and row < start_position_O:\n",
    "                    self.board[row][col] = \"O\"\n",
    "                elif (row + col) % 2 != 0 and row > start_position_X:\n",
    "                    self.board[row][col] = \"X\"\n",
    "\n",
    "    def display_board(self):\n",
    "        print(\"+\" + \"---+\" * len(self.board))\n",
    "        for row in range(len(self.board)):\n",
    "            print(\"|\", end=\"\")\n",
    "            for col in range(len(self.board)):\n",
    "                print(f\" {self.board[row][col]} |\", end=\"\")\n",
    "            print()\n",
    "            print(\"+\" + \"---+\" * len(self.board))\n",
    "\n",
    "    # to check the state of the board for a win, loss, or draw\n",
    "    def state_of_board(self):\n",
    "        state = \"Unfinished function\"\n",
    "    \n",
    "        return state"
   ]
  },
  {
   "cell_type": "code",
   "execution_count": 199,
   "metadata": {},
   "outputs": [
    {
     "name": "stdout",
     "output_type": "stream",
     "text": [
      "+---+---+---+---+---+---+---+---+\n",
      "|   | O |   | O |   | O |   | O |\n",
      "+---+---+---+---+---+---+---+---+\n",
      "| O |   | O |   | O |   | O |   |\n",
      "+---+---+---+---+---+---+---+---+\n",
      "|   | O |   | O |   | O |   | O |\n",
      "+---+---+---+---+---+---+---+---+\n",
      "|   |   |   |   |   |   |   |   |\n",
      "+---+---+---+---+---+---+---+---+\n",
      "|   |   |   |   |   |   |   |   |\n",
      "+---+---+---+---+---+---+---+---+\n",
      "| X |   | X |   | X |   | X |   |\n",
      "+---+---+---+---+---+---+---+---+\n",
      "|   | X |   | X |   | X |   | X |\n",
      "+---+---+---+---+---+---+---+---+\n",
      "| X |   | X |   | X |   | X |   |\n",
      "+---+---+---+---+---+---+---+---+\n"
     ]
    }
   ],
   "source": [
    "cb = CurrentBoard()"
   ]
  }
 ],
 "metadata": {
  "kernelspec": {
   "display_name": "Python 3",
   "language": "python",
   "name": "python3"
  },
  "language_info": {
   "codemirror_mode": {
    "name": "ipython",
    "version": 3
   },
   "file_extension": ".py",
   "mimetype": "text/x-python",
   "name": "python",
   "nbconvert_exporter": "python",
   "pygments_lexer": "ipython3",
   "version": "3.11.5"
  }
 },
 "nbformat": 4,
 "nbformat_minor": 2
}
