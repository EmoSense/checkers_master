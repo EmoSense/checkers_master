{
 "cells": [
  {
   "cell_type": "markdown",
   "metadata": {},
   "source": [
    "# Draughts Endgame : 4 Kings x 2 Kings"
   ]
  },
  {
   "cell_type": "markdown",
   "metadata": {},
   "source": [
    "In the end I decided to create a game of drafts following an endgame based on the following:\n",
    "\n",
    "https://lidraughts.org/study/YiAZbWM6\n",
    "\n",
    "I decided to go with 4 kings vs 2 kings, ensuring the start position matches that laid out in the source. I will then attempt to add other start positions as described in the following:\n",
    "\n",
    "https://www.fmjd.org/downloads/Course/en/Course%203/S5.The%20endgame.pdf\n",
    "\n",
    "In this scenario, there will be only one 'type' of move. Kings are able to move diagonally forward and backwards, as well as capture other pieces."
   ]
  },
  {
   "cell_type": "markdown",
   "metadata": {},
   "source": [
    "## Draughts Class\n",
    "Class which determines start position of pieces, board state, and display the board"
   ]
  },
  {
   "cell_type": "code",
   "execution_count": 1,
   "metadata": {},
   "outputs": [],
   "source": [
    "class CurrentBoard:\n",
    "\n",
    "    BOARD_SIZE = 8\n",
    "\n",
    "    def __init__(self):\n",
    "        self.board = [[\" \" for _ in range(self.BOARD_SIZE)] for _ in range(self.BOARD_SIZE)]\n",
    "        self.state = self.state_of_board()\n",
    "        self.initial_board()\n",
    "        self.display_board()\n",
    "\n",
    "    # set up the initial board with the pieces in the correct positions\n",
    "    def initial_board(self):\n",
    "        start_position_O = 3\n",
    "        start_position_X = 4\n",
    "\n",
    "        for row in range(self.BOARD_SIZE):\n",
    "            for col in range(self.BOARD_SIZE):\n",
    "                if (row + col) % 2 != 0 and row < start_position_O:\n",
    "                    self.board[row][col] = \"O\"\n",
    "                elif (row + col) % 2 != 0 and row > start_position_X:\n",
    "                    self.board[row][col] = \"X\"\n",
    "\n",
    "    def display_board(self):\n",
    "        print(\"+\" + \"---+\" * self.BOARD_SIZE)\n",
    "        for row in range(self.BOARD_SIZE):\n",
    "            print(\"|\", end=\"\")\n",
    "            for col in range(self.BOARD_SIZE):\n",
    "                print(f\" {self.board[row][col]} |\", end=\"\")\n",
    "            print()\n",
    "            print(\"+\" + \"---+\" * self.BOARD_SIZE)\n",
    "\n",
    "    def state_of_board(self):\n",
    "        # to check the state of the board for a win, loss, or draw\n",
    "        state = \"Unfinished function\"\n",
    "    \n",
    "        return state\n",
    "\n",
    "    def all_possible_moves(self, player_piece):\n",
    "        possible_moves = []\n",
    "\n",
    "        for row in range(self.BOARD_SIZE):\n",
    "            # need to check all rows dependant on player location\n",
    "            if self.board[row][0] == \" \":\n",
    "                new_column = self.put_piece_in_column(player_piece, self.board[row])\n",
    "                new_board = self.board[:row] + [new_column] + self.board[row + 1:]\n",
    "                possible_moves.append(CurrentBoard(new_board))\n",
    "\n",
    "        return possible_moves\n",
    "\n",
    "    # def all_possible_king_moves(self, player_piece):\n",
    "    #     possible_moves = []\n",
    "    #     for row in range(self.BOARD_SIZE):\n",
    "    #         for col in range(self.BOARD_SIZE):\n",
    "    #             if self.board[row][col] == \" \":\n",
    "    #             # check empty spaces\n",
    "    #             # check for opponent\n",
    "        \n",
    "    #     return possible_moves"
   ]
  },
  {
   "cell_type": "code",
   "execution_count": 15,
   "metadata": {},
   "outputs": [
    {
     "name": "stdout",
     "output_type": "stream",
     "text": [
      "+---+---+---+---+---+---+---+---+\n",
      "|   | O |   | O |   | O |   | O |\n",
      "+---+---+---+---+---+---+---+---+\n",
      "| O |   | O |   | O |   | O |   |\n",
      "+---+---+---+---+---+---+---+---+\n",
      "|   | O |   | O |   | O |   | O |\n",
      "+---+---+---+---+---+---+---+---+\n",
      "|   |   |   |   |   |   |   |   |\n",
      "+---+---+---+---+---+---+---+---+\n",
      "|   |   |   |   |   |   |   |   |\n",
      "+---+---+---+---+---+---+---+---+\n",
      "| X |   | X |   | X |   | X |   |\n",
      "+---+---+---+---+---+---+---+---+\n",
      "|   | X |   | X |   | X |   | X |\n",
      "+---+---+---+---+---+---+---+---+\n",
      "| X |   | X |   | X |   | X |   |\n",
      "+---+---+---+---+---+---+---+---+\n"
     ]
    }
   ],
   "source": [
    "cb = CurrentBoard()"
   ]
  },
  {
   "cell_type": "code",
   "execution_count": 16,
   "metadata": {},
   "outputs": [],
   "source": [
    "\"\"\"  taken from searchtreeconnect4 :\n",
    "https://github.com/Robert-Sheehy/AI/blob/main/2024/Search%20Tree/searchtreeconnect4_24.py\n",
    "\"\"\"\n",
    "class SearchTreeNode:\n",
    "\n",
    "    def __init__(self,board_instance,playing_as, ply=0):\n",
    "        self.children = []\n",
    "        self.max_ply_depth = 3\n",
    "        self.value_is_assigned = False\n",
    "        self.ply_depth = ply\n",
    "        self.current_board = board_instance\n",
    "        self.move_for = playing_as\n",
    "\n",
    "        if self.current_board.state == \"U\":\n",
    "            if self.ply_depth<= self.max_ply_depth:\n",
    "                self.generate_children()\n",
    "            else:\n",
    "                # evaluation function code\n",
    "                r =1\n",
    "\n",
    "        else:   # Game over\n",
    "            if self.current_board.state == \"D\":\n",
    "                self.value = 0\n",
    "            else:\n",
    "                if ((self.ply_depth % 2) == 0):\n",
    "                    self.value = -1000\n",
    "                else:\n",
    "                    self.value = 1000\n",
    "            self.value_is_assigned = True\n",
    "\n",
    "    def min_max_value(self):\n",
    "        if self.value_is_assigned:\n",
    "            return self.value\n",
    "\n",
    "        self.children  = sorted(self.children, key = lambda x:x.min_max_value())\n",
    "\n",
    "        if ((self.ply_depth % 2) == 0):\n",
    "            # computers move\n",
    "            self.value = self.children[-1].value\n",
    "        else:\n",
    "            #players move\n",
    "            self.value = self.children[0].value\n",
    "        self.value_is_assigned = True\n",
    "\n",
    "        return self.value\n",
    "\n",
    "    def generate_children(self):\n",
    "        for board_for_next_move in self.current_board.all_possible_moves(self.move_for):\n",
    "            self.children.append(SearchTreeNode(board_for_next_move,self.current_board.other(self.move_for), ply = self.ply_depth +1))\n"
   ]
  },
  {
   "cell_type": "code",
   "execution_count": 17,
   "metadata": {},
   "outputs": [],
   "source": [
    "stn = SearchTreeNode(cb, \"X\")"
   ]
  },
  {
   "cell_type": "code",
   "execution_count": 19,
   "metadata": {},
   "outputs": [
    {
     "data": {
      "text/plain": [
       "[]"
      ]
     },
     "execution_count": 19,
     "metadata": {},
     "output_type": "execute_result"
    }
   ],
   "source": [
    "stn.children"
   ]
  },
  {
   "cell_type": "markdown",
   "metadata": {},
   "source": [
    "# Options for game:\n",
    "* Specific end game - eg two vs one king\n",
    "\n",
    "\n",
    "* endgame is final phase of game where players focus on executing strategic moves to either promote pieces or capture\n",
    "\n",
    "* endgame 4 x 2\n",
    " * 1 king + 3 pieces\n",
    " * 2 kings + 2 pieces\n",
    " * vs 1 king + 1 piece\n",
    "\n",
    "\n",
    "specific end game - https://www.fmjd.org/downloads/Course/en/Course%203/S5.The%20endgame.pdf\n",
    "  "
   ]
  },
  {
   "cell_type": "markdown",
   "metadata": {},
   "source": [
    "## steps\n",
    "* define game state\n",
    "* generate legal moves\n",
    " * regular\n",
    "  * diagonal one space\n",
    "  * capture by jumping\n",
    "  * become king by reaching last row\n",
    " * king\n",
    "  * diagonall back or fora\n",
    "evaluate positions\n",
    "minimax\n",
    "adjust evaluation fucntion to prioritise endgame factors"
   ]
  },
  {
   "cell_type": "code",
   "execution_count": null,
   "metadata": {},
   "outputs": [],
   "source": []
  },
  {
   "cell_type": "markdown",
   "metadata": {},
   "source": []
  }
 ],
 "metadata": {
  "kernelspec": {
   "display_name": "Python 3",
   "language": "python",
   "name": "python3"
  },
  "language_info": {
   "codemirror_mode": {
    "name": "ipython",
    "version": 3
   },
   "file_extension": ".py",
   "mimetype": "text/x-python",
   "name": "python",
   "nbconvert_exporter": "python",
   "pygments_lexer": "ipython3",
   "version": "3.11.5"
  }
 },
 "nbformat": 4,
 "nbformat_minor": 2
}
